{
  "nbformat": 4,
  "nbformat_minor": 0,
  "metadata": {
    "colab": {
      "name": "Python Assigment.ipynb",
      "provenance": [],
      "authorship_tag": "ABX9TyP5C6XCa+m+0VjlNPS6ceF/",
      "include_colab_link": true
    },
    "kernelspec": {
      "name": "python3",
      "display_name": "Python 3"
    },
    "language_info": {
      "name": "python"
    }
  },
  "cells": [
    {
      "cell_type": "markdown",
      "metadata": {
        "id": "view-in-github",
        "colab_type": "text"
      },
      "source": [
        "<a href=\"https://colab.research.google.com/github/C8143-Shan/pythonassigment24april/blob/main/Python_Assigment.ipynb\" target=\"_parent\"><img src=\"https://colab.research.google.com/assets/colab-badge.svg\" alt=\"Open In Colab\"/></a>"
      ]
    },
    {
      "cell_type": "code",
      "metadata": {
        "id": "uwmycsBoM9mO"
      },
      "source": [
        "message = input(\"Please Enter your username :\")\n",
        "username = \"C8143-Shan\"  # Real username.\n",
        "if message == username :\n",
        "      print(\"Hello, Shan Password : C8143\")\n",
        "else :\n",
        "      print(\"Hello, Amina See You Later.\")"
      ],
      "execution_count": null,
      "outputs": []
    }
  ]
}